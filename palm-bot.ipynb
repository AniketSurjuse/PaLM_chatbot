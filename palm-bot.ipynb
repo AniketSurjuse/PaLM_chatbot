{
 "cells": [
  {
   "cell_type": "code",
   "execution_count": 1,
   "id": "a57bab75-a64c-47c6-a61a-2761e0115f85",
   "metadata": {},
   "outputs": [],
   "source": [
    "google_api_key = \"your google api key\""
   ]
  },
  {
   "cell_type": "code",
   "execution_count": 2,
   "id": "8a955373-2cf6-46b3-a182-998551b2a04a",
   "metadata": {},
   "outputs": [],
   "source": [
    "from langchain.llms import GooglePalm"
   ]
  },
  {
   "cell_type": "code",
   "execution_count": 3,
   "id": "c83ae2dc-8e63-47b8-b450-cf58a656c9c7",
   "metadata": {},
   "outputs": [],
   "source": [
    "llm = GooglePalm(google_api_key = google_api_key,temperature = 0.2)"
   ]
  },
  {
   "cell_type": "code",
   "execution_count": 4,
   "id": "93d41124-d5ee-4f40-8498-7913c5fb0097",
   "metadata": {},
   "outputs": [
    {
     "name": "stdout",
     "output_type": "stream",
     "text": [
      "Oh programming, how I love thee!\n",
      "Let me count the ways.\n",
      "\n",
      "I love the way you make me think,\n",
      "Solving problems in new and creative ways.\n",
      "I love the way you challenge me,\n",
      "Pushing me to learn and grow.\n",
      "I love the way you empower me,\n",
      "Giving me the ability to create anything I can imagine.\n",
      "\n",
      "I love the way you make me feel,\n",
      "Like I can do anything.\n",
      "I love the way you connect me to the world,\n",
      "Allowing me to share my work with others.\n",
      "I love the way you make me a better person,\n",
      "Teaching me patience, perseverance, and problem-solving skills.\n",
      "\n",
      "Oh programming, I love thee!\n",
      "You are my passion, my joy, my life.\n",
      "\n",
      "I will never stop loving you.\n"
     ]
    }
   ],
   "source": [
    "poem = llm(\"write me a peom about my love for programming\")\n",
    "print(poem)"
   ]
  },
  {
   "cell_type": "code",
   "execution_count": 7,
   "id": "7d8a0688-cc54-48b3-8b1c-21f108fee118",
   "metadata": {},
   "outputs": [
    {
     "name": "stdout",
     "output_type": "stream",
     "text": [
      "Collecting pypdf\n",
      "  Downloading pypdf-3.17.1-py3-none-any.whl.metadata (7.5 kB)\n",
      "Downloading pypdf-3.17.1-py3-none-any.whl (277 kB)\n",
      "   ---------------------------------------- 0.0/277.6 kB ? eta -:--:--\n",
      "   - -------------------------------------- 10.2/277.6 kB ? eta -:--:--\n",
      "   - -------------------------------------- 10.2/277.6 kB ? eta -:--:--\n",
      "   ---- ---------------------------------- 30.7/277.6 kB 217.9 kB/s eta 0:00:02\n",
      "   ---- ---------------------------------- 30.7/277.6 kB 217.9 kB/s eta 0:00:02\n",
      "   ------------ -------------------------- 92.2/277.6 kB 403.5 kB/s eta 0:00:01\n",
      "   ------------ -------------------------- 92.2/277.6 kB 403.5 kB/s eta 0:00:01\n",
      "   ---------------- --------------------- 122.9/277.6 kB 379.3 kB/s eta 0:00:01\n",
      "   ----------------------- -------------- 174.1/277.6 kB 523.5 kB/s eta 0:00:01\n",
      "   ----------------------- -------------- 174.1/277.6 kB 523.5 kB/s eta 0:00:01\n",
      "   -------------------------------------- 277.6/277.6 kB 658.5 kB/s eta 0:00:00\n",
      "Installing collected packages: pypdf\n",
      "Successfully installed pypdf-3.17.1\n"
     ]
    }
   ],
   "source": [
    "# !pip install pypdf"
   ]
  },
  {
   "cell_type": "code",
   "execution_count": 5,
   "id": "1d8d4b88-3707-40e8-9c72-fb9d45b1c451",
   "metadata": {},
   "outputs": [],
   "source": [
    "from langchain.document_loaders import PyPDFLoader\n",
    "\n",
    "loader = PyPDFLoader(\"Aniket_Surjuse_Resume.pdf\")\n",
    "pages = loader.load_and_split()"
   ]
  },
  {
   "cell_type": "code",
   "execution_count": 6,
   "id": "93b914e3-c4f9-42b4-b24a-9ea31be13e6a",
   "metadata": {},
   "outputs": [
    {
     "data": {
      "text/plain": [
       "1"
      ]
     },
     "execution_count": 6,
     "metadata": {},
     "output_type": "execute_result"
    }
   ],
   "source": [
    "len(pages)"
   ]
  },
  {
   "cell_type": "code",
   "execution_count": 7,
   "id": "df5a40a2-2683-4ff1-92a2-3469796c7adf",
   "metadata": {},
   "outputs": [
    {
     "data": {
      "text/plain": [
       "Document(page_content=\"ANIKET\\nSURJUSE\\nAurangabad,\\nMaharashtra\\n|\\n+91\\n9511875643\\n|\\nasurjuse1 11@gmail.com|\\nLinkedIn\\n| \\nGithub\\n-\\nhttps://github.com/AniketSurjuse\\nEDUCA TION\\nGovernment\\nCollege\\nof\\nEngineering,\\nAurangabad\\nB.TECH\\nin\\nComputer\\nScience\\nand\\nTechnology\\n2020\\n-\\n2024 \\nCumulative\\nGPA\\n:\\n9.0/10.0 \\nHSC\\n(XII)\\n-\\n78.40\\n%\\n2018\\n-\\n2019 \\nSSC\\n(X)\\n-\\n95.00\\n%\\n2016\\n-\\n2017\\nPROJECTS\\nAskPDF\\n-\\nChat\\nwith\\nyour\\nPDF\\n●\\nRevolutionizing\\ndocument\\ninteraction:\\nA\\nproject\\noffering\\na\\nseamless\\ninterface\\nfor\\nconversing\\nwith\\nPDFs,\\nmaking \\ninformation\\nextraction\\nand\\ncollaboration\\nas\\nnatural\\nas\\na\\nchat.\\n●\\nThrough\\nthe\\nintegration\\nof\\nLangChain\\nand\\nOpenAI\\n,\\nthis\\nproject\\ndeploys\\nan\\nadvanced\\nchatbot\\nthat\\nemploys \\ncontextual\\nanalysis\\nof\\nuser-provided\\nPDFs\\n,\\nthus\\nenabling\\nthe\\ngeneration\\nof\\nprecise\\nand\\ntechnically\\ninformed \\nresponses,\\nredefining\\nconventional\\nmodes\\nof\\ncontent\\nengagement.\\n●\\nUsed\\nStreamlit\\nto\\ncreate\\nan\\nappealing\\nand\\neasy-to-use\\nfront-end\\ninterface.\\nPathoSense\\n-\\nMultiple\\nDiseases\\nDetection\\n●\\nPathoSense\\nis\\nan\\ninnovative\\nAI-powered\\napplication\\nthat\\naccurately\\ndetects\\nmultiple\\ndiseases,\\nrevolutionizing \\nproactive\\nhealthcare.\\n●\\nDeveloped\\nan\\napplication\\nusing\\nvarious\\nmachine\\nlearning\\nalgorithms\\nsuch\\nas\\nDeep\\nlearning\\n,\\nSVM\\n,\\nNaive\\nBayes\\n, \\nand\\nCNN\\n.\\nThe\\napplication\\nutilizes\\nthese\\nalgorithms\\nto\\ndetect\\nmultiple\\ndiseases\\nincluding\\nheart\\ndisease,\\nParkinson's \\ndisease,\\nbreast\\ncancer,\\ndiabetes,\\nAlzheimer's\\ndisease,\\nand\\npneumonia.\\nBuilt\\nwith\\nFlask\\nfor\\nseamless\\nuser \\ninteraction.\\n●\\nThis\\napplication\\ncan\\nprovide\\nlabs\\nand\\nmedical\\nprofessionals\\nwith\\na\\nvaluable\\nsecond\\nopinion\\non\\npatient\\ndata, \\nenhancing\\ndiagnostic\\naccuracy.\\nBlog\\nwebsite\\nusing\\nDjango\\n●\\nDeveloped\\na\\nrobust\\nblogging\\nsite\\nusing\\nDjango\\n,\\nfeaturing\\nessential\\nfunctionalities\\nlike\\nuser\\nregistration,\\nlogin,\\nand \\nmanagement\\n(including\\ndeletion),\\nseamless\\ncreation\\nand\\nediting\\nof\\nposts,\\nand\\neasy\\npost\\ndeletion.\\n●\\nLeveraged\\nDjango's\\nAdmin\\nportal\\nfor\\nefficient\\ncontent\\nmanagement,\\nensuring\\nsmooth\\nadministration\\nand \\norganization\\nof\\nthe\\nblogging\\nplatform.Utilized\\nBootstrap\\nto\\ncraft\\nan\\nattractive\\nand\\nresponsive\\nuser\\ninterface.\\nSKILLS\\nProgramming\\nLanguages\\n:\\nJAVA,\\nPython,\\nC\\nLibraries\\n:\\nTensorflow ,\\nkeras,\\nReact\\nTechnology:\\nDeep\\nLearning,\\nNLP,\\nComputer\\nVision,Git\\nFramework:\\nDjango,\\nFlask,\\nStreamlit\\nCS\\nFundamentals\\n:\\nOS,\\nDBMS,\\nOOP ,\\nSQL\\nACHIEVEMENTS\\n●\\nQualified\\nfor\\nlevel\\n2\\nof\\nFlipkart\\nGrid\\n5.0\\nhackathon\\nin\\nSoftware\\nDevelopment\\nTrack\\nand\\nHealth+\\nTrack\\n●\\nSolved\\n500+\\nDSA\\nQuestions\\non\\nvarious\\ncoding\\nplatforms\\nLeetCode\\n:\\nhttps://leetcode.com/thisannie/\\nCER TIFICA TIONS\\n●\\nDeep\\nLearning\\nSpecialization\\n(Coursera)\\n●\\nMachine\\nLearning\\nSpecialization\\n(Coursera)\\n●\\nComplete\\nWeb\\nDevelopment\\nBootcamp\\nby\\nAngela\\nYu\\n(Udemy)\", metadata={'source': 'Aniket_Surjuse_Resume.pdf', 'page': 0})"
      ]
     },
     "execution_count": 7,
     "metadata": {},
     "output_type": "execute_result"
    }
   ],
   "source": [
    "pages[0]"
   ]
  },
  {
   "cell_type": "code",
   "execution_count": 8,
   "id": "3ffd4ae9-1f9a-4c4d-b677-82b0c9851a56",
   "metadata": {},
   "outputs": [
    {
     "name": "stdout",
     "output_type": "stream",
     "text": [
      "page_content=\"ANIKET\\nSURJUSE\\nAurangabad,\\nMaharashtra\\n|\\n+91\\n9511875643\\n|\\nasurjuse1 11@gmail.com|\\nLinkedIn\\n| \\nGithub\\n-\\nhttps://github.com/AniketSurjuse\\nEDUCA TION\\nGovernment\\nCollege\\nof\\nEngineering,\\nAurangabad\\nB.TECH\\nin\\nComputer\\nScience\\nand\\nTechnology\\n2020\\n-\\n2024 \\nCumulative\\nGPA\\n:\\n9.0/10.0 \\nHSC\\n(XII)\\n-\\n78.40\\n%\\n2018\\n-\\n2019 \\nSSC\\n(X)\\n-\\n95.00\\n%\\n2016\\n-\\n2017\\nPROJECTS\\nAskPDF\\n-\\nChat\\nwith\\nyour\\nPDF\\n●\\nRevolutionizing\\ndocument\\ninteraction:\\nA\\nproject\\noffering\\na\\nseamless\\ninterface\\nfor\\nconversing\\nwith\\nPDFs,\\nmaking \\ninformation\\nextraction\\nand\\ncollaboration\\nas\\nnatural\\nas\\na\\nchat.\\n●\\nThrough\\nthe\\nintegration\\nof\\nLangChain\\nand\\nOpenAI\\n,\\nthis\\nproject\\ndeploys\\nan\\nadvanced\\nchatbot\\nthat\\nemploys \\ncontextual\\nanalysis\\nof\\nuser-provided\\nPDFs\\n,\\nthus\\nenabling\\nthe\\ngeneration\\nof\\nprecise\\nand\\ntechnically\\ninformed \\nresponses,\\nredefining\\nconventional\\nmodes\\nof\\ncontent\\nengagement.\\n●\\nUsed\\nStreamlit\\nto\\ncreate\\nan\\nappealing\\nand\\neasy-to-use\\nfront-end\\ninterface.\\nPathoSense\\n-\\nMultiple\\nDiseases\\nDetection\\n●\\nPathoSense\\nis\\nan\\ninnovative\\nAI-powered\\napplication\\nthat\\naccurately\\ndetects\\nmultiple\\ndiseases,\\nrevolutionizing \\nproactive\\nhealthcare.\\n●\\nDeveloped\\nan\\napplication\\nusing\\nvarious\\nmachine\\nlearning\\nalgorithms\\nsuch\\nas\\nDeep\\nlearning\\n,\\nSVM\\n,\\nNaive\\nBayes\\n, \\nand\\nCNN\\n.\\nThe\\napplication\\nutilizes\\nthese\\nalgorithms\\nto\\ndetect\\nmultiple\\ndiseases\\nincluding\\nheart\\ndisease,\\nParkinson's \\ndisease,\\nbreast\\ncancer,\\ndiabetes,\\nAlzheimer's\\ndisease,\\nand\\npneumonia.\\nBuilt\\nwith\\nFlask\\nfor\\nseamless\\nuser \\ninteraction.\\n●\\nThis\\napplication\\ncan\\nprovide\\nlabs\\nand\\nmedical\\nprofessionals\\nwith\\na\\nvaluable\\nsecond\\nopinion\\non\\npatient\\ndata, \\nenhancing\\ndiagnostic\\naccuracy.\\nBlog\\nwebsite\\nusing\\nDjango\\n●\\nDeveloped\\na\\nrobust\\nblogging\\nsite\\nusing\\nDjango\\n,\\nfeaturing\\nessential\\nfunctionalities\\nlike\\nuser\\nregistration,\\nlogin,\\nand \\nmanagement\\n(including\\ndeletion),\\nseamless\\ncreation\\nand\\nediting\\nof\\nposts,\\nand\\neasy\\npost\\ndeletion.\\n●\\nLeveraged\\nDjango's\\nAdmin\\nportal\\nfor\\nefficient\\ncontent\\nmanagement,\\nensuring\\nsmooth\\nadministration\\nand \\norganization\\nof\\nthe\\nblogging\\nplatform.Utilized\\nBootstrap\\nto\\ncraft\\nan\\nattractive\\nand\\nresponsive\\nuser\\ninterface.\\nSKILLS\\nProgramming\\nLanguages\\n:\\nJAVA,\\nPython,\\nC\\nLibraries\\n:\\nTensorflow ,\\nkeras,\\nReact\\nTechnology:\\nDeep\\nLearning,\\nNLP,\\nComputer\\nVision,Git\\nFramework:\\nDjango,\\nFlask,\\nStreamlit\\nCS\\nFundamentals\\n:\\nOS,\\nDBMS,\\nOOP ,\\nSQL\\nACHIEVEMENTS\\n●\\nQualified\\nfor\\nlevel\\n2\\nof\\nFlipkart\\nGrid\\n5.0\\nhackathon\\nin\\nSoftware\\nDevelopment\\nTrack\\nand\\nHealth+\\nTrack\\n●\\nSolved\\n500+\\nDSA\\nQuestions\\non\\nvarious\\ncoding\\nplatforms\\nLeetCode\\n:\\nhttps://leetcode.com/thisannie/\\nCER TIFICA TIONS\\n●\\nDeep\\nLearning\\nSpecialization\\n(Coursera)\\n●\\nMachine\\nLearning\\nSpecialization\\n(Coursera)\\n●\\nComplete\\nWeb\\nDevelopment\\nBootcamp\\nby\\nAngela\\nYu\\n(Udemy)\" metadata={'source': 'Aniket_Surjuse_Resume.pdf', 'page': 0}\n"
     ]
    }
   ],
   "source": [
    "print(pages[0])"
   ]
  },
  {
   "cell_type": "code",
   "execution_count": 9,
   "id": "d2f2b648-cb08-4856-a557-3b15247f683c",
   "metadata": {},
   "outputs": [],
   "source": [
    "from langchain.embeddings import HuggingFaceInstructEmbeddings\n"
   ]
  },
  {
   "cell_type": "code",
   "execution_count": 32,
   "id": "45feb2ae-4ab3-4390-b5f1-a438617b8b57",
   "metadata": {},
   "outputs": [
    {
     "name": "stdout",
     "output_type": "stream",
     "text": [
      "load INSTRUCTOR_Transformer\n",
      "max_seq_length  512\n"
     ]
    }
   ],
   "source": [
    "embeddings = HuggingFaceInstructEmbeddings(\n",
    "    query_instruction = \"represent query for retrieval: \"\n",
    ")"
   ]
  },
  {
   "cell_type": "code",
   "execution_count": 12,
   "id": "600249ba-57f5-40e8-bfa3-7219a24e44fc",
   "metadata": {},
   "outputs": [],
   "source": [
    "from langchain.vectorstores import FAISS\n",
    "\n",
    "vectordb = FAISS.from_documents(documents = pages,embedding = embeddings)"
   ]
  },
  {
   "cell_type": "code",
   "execution_count": 14,
   "id": "85fee85b-98b8-413f-b4d0-47864f09d8b8",
   "metadata": {},
   "outputs": [
    {
     "data": {
      "text/plain": [
       "[Document(page_content=\"ANIKET\\nSURJUSE\\nAurangabad,\\nMaharashtra\\n|\\n+91\\n9511875643\\n|\\nasurjuse1 11@gmail.com|\\nLinkedIn\\n| \\nGithub\\n-\\nhttps://github.com/AniketSurjuse\\nEDUCA TION\\nGovernment\\nCollege\\nof\\nEngineering,\\nAurangabad\\nB.TECH\\nin\\nComputer\\nScience\\nand\\nTechnology\\n2020\\n-\\n2024 \\nCumulative\\nGPA\\n:\\n9.0/10.0 \\nHSC\\n(XII)\\n-\\n78.40\\n%\\n2018\\n-\\n2019 \\nSSC\\n(X)\\n-\\n95.00\\n%\\n2016\\n-\\n2017\\nPROJECTS\\nAskPDF\\n-\\nChat\\nwith\\nyour\\nPDF\\n●\\nRevolutionizing\\ndocument\\ninteraction:\\nA\\nproject\\noffering\\na\\nseamless\\ninterface\\nfor\\nconversing\\nwith\\nPDFs,\\nmaking \\ninformation\\nextraction\\nand\\ncollaboration\\nas\\nnatural\\nas\\na\\nchat.\\n●\\nThrough\\nthe\\nintegration\\nof\\nLangChain\\nand\\nOpenAI\\n,\\nthis\\nproject\\ndeploys\\nan\\nadvanced\\nchatbot\\nthat\\nemploys \\ncontextual\\nanalysis\\nof\\nuser-provided\\nPDFs\\n,\\nthus\\nenabling\\nthe\\ngeneration\\nof\\nprecise\\nand\\ntechnically\\ninformed \\nresponses,\\nredefining\\nconventional\\nmodes\\nof\\ncontent\\nengagement.\\n●\\nUsed\\nStreamlit\\nto\\ncreate\\nan\\nappealing\\nand\\neasy-to-use\\nfront-end\\ninterface.\\nPathoSense\\n-\\nMultiple\\nDiseases\\nDetection\\n●\\nPathoSense\\nis\\nan\\ninnovative\\nAI-powered\\napplication\\nthat\\naccurately\\ndetects\\nmultiple\\ndiseases,\\nrevolutionizing \\nproactive\\nhealthcare.\\n●\\nDeveloped\\nan\\napplication\\nusing\\nvarious\\nmachine\\nlearning\\nalgorithms\\nsuch\\nas\\nDeep\\nlearning\\n,\\nSVM\\n,\\nNaive\\nBayes\\n, \\nand\\nCNN\\n.\\nThe\\napplication\\nutilizes\\nthese\\nalgorithms\\nto\\ndetect\\nmultiple\\ndiseases\\nincluding\\nheart\\ndisease,\\nParkinson's \\ndisease,\\nbreast\\ncancer,\\ndiabetes,\\nAlzheimer's\\ndisease,\\nand\\npneumonia.\\nBuilt\\nwith\\nFlask\\nfor\\nseamless\\nuser \\ninteraction.\\n●\\nThis\\napplication\\ncan\\nprovide\\nlabs\\nand\\nmedical\\nprofessionals\\nwith\\na\\nvaluable\\nsecond\\nopinion\\non\\npatient\\ndata, \\nenhancing\\ndiagnostic\\naccuracy.\\nBlog\\nwebsite\\nusing\\nDjango\\n●\\nDeveloped\\na\\nrobust\\nblogging\\nsite\\nusing\\nDjango\\n,\\nfeaturing\\nessential\\nfunctionalities\\nlike\\nuser\\nregistration,\\nlogin,\\nand \\nmanagement\\n(including\\ndeletion),\\nseamless\\ncreation\\nand\\nediting\\nof\\nposts,\\nand\\neasy\\npost\\ndeletion.\\n●\\nLeveraged\\nDjango's\\nAdmin\\nportal\\nfor\\nefficient\\ncontent\\nmanagement,\\nensuring\\nsmooth\\nadministration\\nand \\norganization\\nof\\nthe\\nblogging\\nplatform.Utilized\\nBootstrap\\nto\\ncraft\\nan\\nattractive\\nand\\nresponsive\\nuser\\ninterface.\\nSKILLS\\nProgramming\\nLanguages\\n:\\nJAVA,\\nPython,\\nC\\nLibraries\\n:\\nTensorflow ,\\nkeras,\\nReact\\nTechnology:\\nDeep\\nLearning,\\nNLP,\\nComputer\\nVision,Git\\nFramework:\\nDjango,\\nFlask,\\nStreamlit\\nCS\\nFundamentals\\n:\\nOS,\\nDBMS,\\nOOP ,\\nSQL\\nACHIEVEMENTS\\n●\\nQualified\\nfor\\nlevel\\n2\\nof\\nFlipkart\\nGrid\\n5.0\\nhackathon\\nin\\nSoftware\\nDevelopment\\nTrack\\nand\\nHealth+\\nTrack\\n●\\nSolved\\n500+\\nDSA\\nQuestions\\non\\nvarious\\ncoding\\nplatforms\\nLeetCode\\n:\\nhttps://leetcode.com/thisannie/\\nCER TIFICA TIONS\\n●\\nDeep\\nLearning\\nSpecialization\\n(Coursera)\\n●\\nMachine\\nLearning\\nSpecialization\\n(Coursera)\\n●\\nComplete\\nWeb\\nDevelopment\\nBootcamp\\nby\\nAngela\\nYu\\n(Udemy)\", metadata={'source': 'Aniket_Surjuse_Resume.pdf', 'page': 0})]"
      ]
     },
     "execution_count": 14,
     "metadata": {},
     "output_type": "execute_result"
    }
   ],
   "source": [
    "retriever = vectordb.as_retriever()\n",
    "rdocs = retriever.get_relevant_documents(\"is aniket good hire for ml?\")\n",
    "rdocs"
   ]
  },
  {
   "cell_type": "code",
   "execution_count": 17,
   "id": "e27a2c1e-3f06-4675-91f6-d945f15cbf7f",
   "metadata": {},
   "outputs": [],
   "source": [
    "from langchain.chains import RetrievalQA\n",
    "chain = RetrievalQA.from_chain_type(\n",
    "    llm = llm,\n",
    "    chain_type = \"stuff\",\n",
    "    retriever = retriever,\n",
    "    input_key = \"query\"\n",
    ")\n"
   ]
  },
  {
   "cell_type": "code",
   "execution_count": 29,
   "id": "50d4b35d-5529-4001-aff0-3f299f17fa7f",
   "metadata": {},
   "outputs": [],
   "source": [
    "ans = chain(\"what are the projects that he did\")"
   ]
  },
  {
   "cell_type": "code",
   "execution_count": 31,
   "id": "626709c5-0d00-4ca5-8ee8-113b18e87e82",
   "metadata": {},
   "outputs": [
    {
     "name": "stdout",
     "output_type": "stream",
     "text": [
      "The projects that he did are:\n",
      "1. AskPDF - Chat with your PDF\n",
      "2. PathoSense - Multiple Diseases Detection\n",
      "3. Blog website using Django\n"
     ]
    }
   ],
   "source": [
    "print(ans['result'])"
   ]
  },
  {
   "cell_type": "code",
   "execution_count": 53,
   "id": "5cb0dd49-a58e-4c5b-9356-4aabaede5be0",
   "metadata": {},
   "outputs": [],
   "source": [
    "from langchain.document_loaders import UnstructuredURLLoader"
   ]
  },
  {
   "cell_type": "code",
   "execution_count": 54,
   "id": "5300bed8-8a86-493a-bf9b-c226d5525d02",
   "metadata": {},
   "outputs": [],
   "source": [
    "loader = UnstructuredURLLoader(urls = [\n",
    "    \"https://www.flipkart.com/realme-11-pro-5g-astral-black-128-gb/p/itm3f783627a36ec\"\n",
    "])"
   ]
  },
  {
   "cell_type": "code",
   "execution_count": 55,
   "id": "3b90bcab-3a0e-4c4d-b471-08a52e8e1123",
   "metadata": {},
   "outputs": [],
   "source": [
    "data = loader.load()"
   ]
  },
  {
   "cell_type": "code",
   "execution_count": 56,
   "id": "99237d70-e1ed-417e-b3be-9f4128f91924",
   "metadata": {},
   "outputs": [],
   "source": [
    "dim = 768"
   ]
  },
  {
   "cell_type": "code",
   "execution_count": 57,
   "id": "a4534b10-2a45-4f7e-b94d-867316425f00",
   "metadata": {},
   "outputs": [
    {
     "data": {
      "text/plain": [
       "21"
      ]
     },
     "execution_count": 57,
     "metadata": {},
     "output_type": "execute_result"
    }
   ],
   "source": [
    "text_splitter = RecursiveCharacterTextSplitter(\n",
    "    chunk_size = 1000,\n",
    "    chunk_overlap = 200\n",
    ")\n",
    "\n",
    "docs =  text_splitter.split_documents(data)\n",
    "len(docs)"
   ]
  },
  {
   "cell_type": "code",
   "execution_count": 58,
   "id": "55f95154-f9e9-4df4-85ca-7a639bb94907",
   "metadata": {},
   "outputs": [],
   "source": [
    "from langchain.vectorstores import FAISS\n",
    "\n",
    "vectordb = FAISS.from_documents(documents = docs,embedding = embeddings)"
   ]
  },
  {
   "cell_type": "code",
   "execution_count": 59,
   "id": "b445880c-e856-4b11-b9bb-fabce47d7316",
   "metadata": {},
   "outputs": [
    {
     "data": {
      "text/plain": [
       "[Document(page_content=\"Smartphone Yes Touchscreen Type Capacitive SIM Size Nano Sim User Interface ColorOS V13.1.0 (Based on Android 13) MMS Yes SMS Yes Keypad No Graphics PPI 394 PPI Sensors Geomagnetic Sensor, Proximity Sensor, Light Sensor, Acceleration Sensor, Gyroscope, Support Meter Function Games Support Game Ringtones Format OGG, MP3 Other Features APU 3.0, COP Packaging Process, Oleophobic Coating on Rear Cover, Screen Curvature: 61.38 Degree, On-Cell Lamination Method, Upto 10 Touch Points, Screen Protector Type: PET Material 3D UV Double Curing Protective Film, Oleophobic Coating on Screen, Supports Dark Mode, Supports Eye Comfort, HDR 10+, UFS 3.1, OTG Storage Format: Support FAT32/EXFAT/NTFS, Maximum OTG Storage Supported: 2TB, Dual RAM Channels, Material of Protection Glass: Rainbow Two Strong, Supports Video Call, Supports Answering Phone Calls Using Earphones, Supports Call Recording, Supports Automatic Call Recording, Supports Quick Dial, Supports Display Caller's Profile Picture, Supports\", metadata={'source': 'https://www.flipkart.com/realme-11-pro-5g-astral-black-128-gb/p/itm3f783627a36ec'}),\n",
       " Document(page_content='Storage\\n\\n128 GB128 GB\\n\\n256 GB256 GB\\n\\nPlease select a Storage to proceed\\n\\nRAM\\n\\n8 GB8 GB\\n\\n12 GB12 GB\\n\\nPlease select a RAM to proceed\\n\\nDelivery\\n\\nCheckEnter pincode\\n\\nDelivery by\\n\\n26 Nov, Sunday\\n\\nFree\\n\\n₹40\\n\\nif ordered before 11:43 PM\\n\\nView Details\\n\\nHighlights\\n\\n8 GB RAM | 128 GB ROM\\n\\n17.02 cm (6.7 inch) Full HD+ Display\\n\\n100MP (OIS) + 2MP | 16MP Front Camera\\n\\n5000 mAh Battery\\n\\nDimensity 7050 Processor\\n\\nEasy Payment Options\\n\\nEMI starting from ₹844/month\\n\\nCash on Delivery\\n\\nNet banking & Credit/ Debit/ ATM card\\n\\nView Details\\n\\nSeller\\n\\nPETILANTE Online5\\n\\n7 Days Service Center Replacement/Repair?\\n\\nGST invoice available?\\n\\nSee other sellers\\n\\nDescription', metadata={'source': 'https://www.flipkart.com/realme-11-pro-5g-astral-black-128-gb/p/itm3f783627a36ec'}),\n",
       " Document(page_content='All questions\\n\\nSafe and Secure Payments.Easy returns.100% Authentic products.\\n\\nYou might be interested in\\n\\nPower Banks\\n\\nMin. 50% Off\\n\\nShop Now\\n\\nTrue Wireless\\n\\nMin. 50% Off\\n\\nShop Now\\n\\nSelfie Sticks\\n\\nMin. 50% Off\\n\\nShop Now\\n\\nWired Headphones\\n\\nMin. 50% Off\\n\\nShop Now\\n\\nTop Stories:\\n\\nBrand Directory\\n\\nMOST SEARCHED IN Mobiles & Accessories:\\n\\nAPPLE 6S PRICE\\n\\nASUS ZENFONE 2 DELUXE\\n\\nHUAWEI HONOR 4X\\n\\nHTC 516C\\n\\nMICROMAX XPRESS 2\\n\\nPOWER BANK MI\\n\\nLENOVO MOBILE INDIA\\n\\nLG 4G MOBILE\\n\\nMICROMAX LOW PRICE MOBILE\\n\\nMI MOBILE\\n\\nMOTOROLLA\\n\\nSAMSUNG CHEAPEST MOBILE\\n\\nALL SONY MOBILE\\n\\nVIVO SMARTPHONES\\n\\nMOTO E MOBILE PRICE\\n\\nNOKIA 2730\\n\\nSAMSUNG J7 MOBILE PRICE\\n\\nSAMSUNG TAB 3 PRICE IN INDIA\\n\\nSAMSUNG Z1 MOBILE\\n\\nXPERIA M5 PRICE IN INDIA\\n\\nLYF WATER 7\\n\\nBLACKBERRY SMARTPHONES\\n\\nMI SMARTPHONE PRICE LIST\\n\\nSPICE SMARTPHONE\\n\\nNOKIA X2 DUAL SIM\\n\\nNOKIA C1-01\\n\\nREDMI NOTE 4 BLACK\\n\\nGALAXY ALPHA PRICE\\n\\nSONY XPERIA C4 PRICE\\n\\nABOUT\\n\\nContact Us\\n\\nAbout Us\\n\\nCareers\\n\\nFlipkart Stories\\n\\nPress\\n\\nFlipkart Wholesale\\n\\nCleartrip', metadata={'source': 'https://www.flipkart.com/realme-11-pro-5g-astral-black-128-gb/p/itm3f783627a36ec'}),\n",
       " Document(page_content='Display Features\\n\\nDisplay Size 17.02 cm (6.7 inch) Resolution 2412 x 1080 Pixels Resolution Type Full HD+ GPU Mali-G68 MC4 Display Type Full HD+ OLED Display Display Colors 10 Bit Color Other Display Features Screen-to-Body Ratio: 93.6%, Color Saturation: DCI-P3 100%, Aspect Ratio: 20.1:9, Contrast Ratio: 5000000:1, Sunshine Screen, Brightness: 500 nits, Peak Brightness: 950 nits, Refresh Ratio: 60 Hz/ 90 Hz/ 120 Hz, 360 Hz Touch Sampling Rate, Dimming Mode: ?90nit: PWM2160HZ, >90nit: DC\\n\\nOs & Processor Features\\n\\nOperating System Android 13 Processor Brand Mediatek Processor Type Dimensity 7050 Processor Core Octa Core Primary Clock Speed 2.6 GHz Secondary Clock Speed 2 GHz Operating Frequency 2G GSM: 850 MHz/900 MHz/1800 MHz, 3G WCDMA: B1/B5/B8, 4G LTE FDD: B1/B3/B5/B8/B28A, 4G LTE TDD: B40/B41, 5G NR: n1/n3/n5/n8/n28A/n40/n41/n77/n78\\n\\nMemory & Storage Features\\n\\nInternal Storage 128 GB RAM 8 GB Memory Card Slot Type Hybrid Slot\\n\\nCamera Features', metadata={'source': 'https://www.flipkart.com/realme-11-pro-5g-astral-black-128-gb/p/itm3f783627a36ec'})]"
      ]
     },
     "execution_count": 59,
     "metadata": {},
     "output_type": "execute_result"
    }
   ],
   "source": [
    "retriever = vectordb.as_retriever()\n",
    "rdocs = retriever.get_relevant_documents(\"is emi available?\")\n",
    "rdocs"
   ]
  },
  {
   "cell_type": "code",
   "execution_count": 61,
   "id": "5fe5da9a-a64b-43b5-985f-8840c9ff57f3",
   "metadata": {},
   "outputs": [],
   "source": [
    "from langchain.chains import RetrievalQA\n",
    "chain = RetrievalQA.from_chain_type(\n",
    "    llm = llm,\n",
    "    chain_type = \"stuff\",\n",
    "    retriever = retriever,\n",
    "    input_key = \"query\"\n",
    ")\n"
   ]
  },
  {
   "cell_type": "code",
   "execution_count": 62,
   "id": "97a79d8c-14fd-4829-87f3-1bad523355f1",
   "metadata": {},
   "outputs": [],
   "source": [
    "ans = chain(\"what is price of realme 11 pro\")"
   ]
  },
  {
   "cell_type": "code",
   "execution_count": 63,
   "id": "b4d68762-fcc0-41cd-a39e-6612013fb69a",
   "metadata": {},
   "outputs": [
    {
     "name": "stdout",
     "output_type": "stream",
     "text": [
      "The price of realme 11 pro is ₹23,999.\n"
     ]
    }
   ],
   "source": [
    "print(ans['result'])"
   ]
  },
  {
   "cell_type": "code",
   "execution_count": null,
   "id": "18a700c8-3a82-4bc0-94b8-15a7b0ba6f89",
   "metadata": {},
   "outputs": [],
   "source": []
  }
 ],
 "metadata": {
  "kernelspec": {
   "display_name": "Python 3 (ipykernel)",
   "language": "python",
   "name": "python3"
  },
  "language_info": {
   "codemirror_mode": {
    "name": "ipython",
    "version": 3
   },
   "file_extension": ".py",
   "mimetype": "text/x-python",
   "name": "python",
   "nbconvert_exporter": "python",
   "pygments_lexer": "ipython3",
   "version": "3.11.5"
  }
 },
 "nbformat": 4,
 "nbformat_minor": 5
}
